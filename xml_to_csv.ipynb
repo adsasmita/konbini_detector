{
 "cells": [
  {
   "cell_type": "code",
   "execution_count": 1,
   "metadata": {},
   "outputs": [],
   "source": [
    "import os\n",
    "import glob\n",
    "import pandas as pd\n",
    "import xml.etree.ElementTree as ET\n",
    "import shutil\n",
    "\n",
    "def xml_to_csv(path):\n",
    "    xml_list = []\n",
    "    for xml_file in glob.glob(path + '/*.xml'):\n",
    "        tree = ET.parse(xml_file)\n",
    "        root = tree.getroot()\n",
    "        for member in root.findall('object'):\n",
    "            value = (root.find('filename').text,\n",
    "                     int(root.find('size')[0].text),\n",
    "                     int(root.find('size')[1].text),\n",
    "                     member[0].text,\n",
    "                     int(member[4][0].text),\n",
    "                     int(member[4][1].text),\n",
    "                     int(member[4][2].text),\n",
    "                     int(member[4][3].text)\n",
    "                     )\n",
    "            xml_list.append(value)\n",
    "    column_name = ['filename', 'width', 'height', 'class', 'xmin', 'ymin', 'xmax', 'ymax']\n",
    "    xml_df = pd.DataFrame(xml_list, columns=column_name)\n",
    "    return xml_df"
   ]
  },
  {
   "cell_type": "code",
   "execution_count": 6,
   "metadata": {},
   "outputs": [],
   "source": [
    "# copy only pngs that have corresponding xml\n",
    "def get_png(src_dir=\"png/\", dst_dir=\"png_f/\"):\n",
    "    \"\"\"\n",
    "    find PNGs in src_dir that are labeled with XMLS,\n",
    "    then copy the files to dst_dir\n",
    "    \n",
    "    Args:\n",
    "        src_dir (str): path to files\n",
    "        dst_dir (str): path to destination directory\n",
    "    \"\"\"\n",
    "\n",
    "    if not os.path.exists(dst_dir):\n",
    "        os.makedirs(dst_dir)\n",
    "        print(f\"created directory: {dst_dir}\")\n",
    "    \n",
    "    for keyword in os.listdir(src_dir):\n",
    "        print(keyword)\n",
    "        path = os.path.join(src_dir, keyword)\n",
    "        count = 0\n",
    "        for f in os.listdir(path):\n",
    "            if os.path.splitext(f)[1] == '.xml':\n",
    "                count += 1\n",
    "                for ext in ['.xml','.png']:\n",
    "                    src_path = os.path.join(path,os.path.splitext(f)[0]+ext)\n",
    "                    shutil.copy2(src_path,dst_dir)\n",
    "\n",
    "        print(f\"xml count for keyword: {keyword} = {count}\")\n",
    "    print(\"done\")"
   ]
  },
  {
   "cell_type": "code",
   "execution_count": null,
   "metadata": {},
   "outputs": [],
   "source": [
    "get_png(src_dir=\"png/\", dst_dir=\"png_f/\")"
   ]
  },
  {
   "cell_type": "code",
   "execution_count": 9,
   "metadata": {},
   "outputs": [
    {
     "name": "stdout",
     "output_type": "stream",
     "text": [
      "lawson 672\n",
      "family mart 499\n",
      "7-eleven 175\n"
     ]
    }
   ],
   "source": [
    "dict1 = {}\n",
    "dict1['lawson'] = 672\n",
    "dict1['family mart'] = 499\n",
    "dict1['7-eleven'] = 175\n",
    "for k,v in dict1.items():\n",
    "    print(k,v)"
   ]
  },
  {
   "cell_type": "code",
   "execution_count": 3,
   "metadata": {},
   "outputs": [
    {
     "name": "stdout",
     "output_type": "stream",
     "text": [
      "lawson\n",
      "xml count for keyword: lawson = 672\n",
      "family mart\n",
      "xml count for keyword: family mart = 499\n",
      "7-eleven\n",
      "xml count for keyword: 7-eleven = 175\n"
     ]
    }
   ],
   "source": [
    "for keyword in os.listdir(src_dir):\n",
    "    print(keyword)\n",
    "    path = os.path.join(src_dir, keyword)\n",
    "    count = 0\n",
    "    for f in os.listdir(path):\n",
    "        if os.path.splitext(f)[1] == '.xml':\n",
    "            count += 1\n",
    "        \n",
    "    print(f\"xml count for keyword: {keyword} = {count}\")"
   ]
  },
  {
   "cell_type": "code",
   "execution_count": 4,
   "metadata": {},
   "outputs": [
    {
     "data": {
      "text/plain": [
       "2692"
      ]
     },
     "execution_count": 4,
     "metadata": {},
     "output_type": "execute_result"
    }
   ],
   "source": [
    "(672+499+175)*2"
   ]
  },
  {
   "cell_type": "code",
   "execution_count": 5,
   "metadata": {},
   "outputs": [
    {
     "name": "stdout",
     "output_type": "stream",
     "text": [
      "2692\n"
     ]
    }
   ],
   "source": [
    "!ls png_f -1 |wc -l"
   ]
  },
  {
   "cell_type": "code",
   "execution_count": null,
   "metadata": {},
   "outputs": [],
   "source": []
  }
 ],
 "metadata": {
  "kernelspec": {
   "display_name": "Python 3",
   "language": "python",
   "name": "python3"
  },
  "language_info": {
   "codemirror_mode": {
    "name": "ipython",
    "version": 3
   },
   "file_extension": ".py",
   "mimetype": "text/x-python",
   "name": "python",
   "nbconvert_exporter": "python",
   "pygments_lexer": "ipython3",
   "version": "3.6.3"
  }
 },
 "nbformat": 4,
 "nbformat_minor": 2
}
