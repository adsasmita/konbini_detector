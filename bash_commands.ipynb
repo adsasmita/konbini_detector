{
 "cells": [
  {
   "cell_type": "code",
   "execution_count": 1,
   "metadata": {},
   "outputs": [
    {
     "name": "stdout",
     "output_type": "stream",
     "text": [
      ":/home/andri/tensorflow/models/research:/home/andri/tensorflow/models/research/slim:/home/andri/coco/PythonAPI:/home/andri/tensorflow/models/research:/home/andri/tensorflow/models/research/slim:/home/andri/coco/PythonAPI\n"
     ]
    }
   ],
   "source": [
    "!echo $PYTHONPATH\n",
    "\n",
    "#model=\"ssd_inception_v2\"\n",
    "#model=\"ssd_mobilenet_v1\"\n",
    "#model=\"ssd_mobilenet_v2\""
   ]
  },
  {
   "cell_type": "code",
   "execution_count": null,
   "metadata": {},
   "outputs": [],
   "source": [
    "# generate tfrecords for training and validation sets\n",
    "# from project root directory\n",
    "# Create train data:\n",
    "python create_tfrecord.py --csv_input=data/csv/train_labels.csv  --output_path=data/tfrecord/train.record"
   ]
  },
  {
   "cell_type": "code",
   "execution_count": null,
   "metadata": {},
   "outputs": [],
   "source": [
    "# Create test data:\n",
    "python create_tfrecord.py --csv_input=data/csv/valid_labels.csv  --output_path=data/tfrecord/valid.record"
   ]
  },
  {
   "cell_type": "code",
   "execution_count": null,
   "metadata": {},
   "outputs": [],
   "source": [
    "# from tensorflow/models/research\n",
    "model=\"ssd_mobilenet_v201\"\n",
    "python object_detection/train.py \\\n",
    "--logtostderr \\\n",
    "--pipeline_config_path=\"/home/andri/konbini_detector/models/${model}/${model}_pipeline.config\" \\\n",
    "--train_dir=\"/home/andri/konbini_detector/models/${model}/train/\""
   ]
  },
  {
   "cell_type": "code",
   "execution_count": null,
   "metadata": {},
   "outputs": [],
   "source": [
    "# validation\n",
    "model=\"ssd_mobilenet_v2\"\n",
    "python object_detection/eval.py \\\n",
    "--logtostderr \\\n",
    "--pipeline_config_path=\"/home/andri/konbini_detector/models/${model}/${model}_pipeline.config\" \\\n",
    "--checkpoint_dir=\"/home/andri/konbini_detector/models/${model}/train/\" \\\n",
    "--eval_dir=\"/home/andri/konbini_detector/models/${model}/valid/\""
   ]
  },
  {
   "cell_type": "code",
   "execution_count": null,
   "metadata": {},
   "outputs": [],
   "source": [
    "# from tensorflow/models/research\n",
    "model=\"ssd_mobilenet_v2\"\n",
    "tensorboard --logdir=\"/home/andri/konbini_detector/models/${model}/\""
   ]
  },
  {
   "cell_type": "code",
   "execution_count": null,
   "metadata": {},
   "outputs": [],
   "source": [
    "# From tensorflow/models/research/\n",
    "model=\"ssd_mobilenet_v2\"\n",
    "python object_detection/export_inference_graph.py \\\n",
    "    --input_type image_tensor \\\n",
    "    --pipeline_config_path=\"/home/andri/Proj/konbini_detector/models/${model}/${model}_pipeline.config\" \\\n",
    "    --trained_checkpoint_prefix=\"/home/andri/Proj/konbini_detector/models/${model}/train/model.ckpt-14346\" \\\n",
    "    --output_directory \"/home/andri/Proj/konbini_detector/models/${model}/frozen_graph/\""
   ]
  }
 ],
 "metadata": {
  "kernelspec": {
   "display_name": "Python 3",
   "language": "python",
   "name": "python3"
  },
  "language_info": {
   "codemirror_mode": {
    "name": "ipython",
    "version": 3
   },
   "file_extension": ".py",
   "mimetype": "text/x-python",
   "name": "python",
   "nbconvert_exporter": "python",
   "pygments_lexer": "ipython3",
   "version": "3.6.3"
  }
 },
 "nbformat": 4,
 "nbformat_minor": 2
}
