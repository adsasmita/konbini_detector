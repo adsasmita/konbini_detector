{
 "cells": [
  {
   "cell_type": "code",
   "execution_count": 1,
   "metadata": {},
   "outputs": [
    {
     "name": "stdout",
     "output_type": "stream",
     "text": [
      ":/home/andri/tensorflow/models/research:/home/andri/tensorflow/models/research/slim:/home/andri/coco/PythonAPI:/home/andri/tensorflow/models/research:/home/andri/tensorflow/models/research/slim:/home/andri/coco/PythonAPI\n"
     ]
    }
   ],
   "source": [
    "!echo $PYTHONPATH"
   ]
  },
  {
   "cell_type": "code",
   "execution_count": null,
   "metadata": {},
   "outputs": [],
   "source": [
    "# from tensorflow/models/research\n",
    "python object_detection/train.py \\\n",
    "--logtostderr \\\n",
    "--pipeline_config_path=\"/home/andri/konbini_detector/models/ssd_mobilenets_v2/ssd_mobilenets_v2_pipeline.config\" \\\n",
    "--train_dir=\"/home/andri/konbini_detector/models/ssd_mobilenets_v2/train/\""
   ]
  },
  {
   "cell_type": "code",
   "execution_count": null,
   "metadata": {},
   "outputs": [],
   "source": [
    "# validation\n",
    "python object_detection/eval.py \\\n",
    "--logtostderr \\\n",
    "--pipeline_config_path=\"/home/andri/konbini_detector/models/ssd_mobilenets_v2/ssd_mobilenets_v2_pipeline.config\" \\\n",
    "--checkpoint_dir=\"/home/andri/konbini_detector/models/ssd_mobilenets_v2/train/\" \\\n",
    "--eval_dir=\"/home/andri/konbini_detector/models/ssd_mobilenets_v2/valid/\""
   ]
  },
  {
   "cell_type": "code",
   "execution_count": null,
   "metadata": {},
   "outputs": [],
   "source": [
    "# from tensorflow/models/research\n",
    "tensorboard --logdir=\"/home/andri/konbini_detector/models/ssd_mobilenets_v2/\""
   ]
  },
  {
   "cell_type": "code",
   "execution_count": null,
   "metadata": {},
   "outputs": [],
   "source": [
    "# From tensorflow/models/research/\n",
    "python object_detection/export_inference_graph.py \\\n",
    "    --input_type image_tensor \\\n",
    "    --pipeline_config_path=\"/home/andri/konbini_detector/models/ssd_mobilenets_v2/ssd_mobilenets_v2_pipeline.config\" \\\n",
    "    --trained_checkpoint_prefix=\"/home/andri/konbini_detector/models/ssd_mobilenets_v2/train/model.ckpt-XXXXX\" \\\n",
    "    --output_directory \"/home/andri/konbini_detector/models/ssd_mobilenets_v2/frozen_graph/\""
   ]
  }
 ],
 "metadata": {
  "kernelspec": {
   "display_name": "Python 3",
   "language": "python",
   "name": "python3"
  },
  "language_info": {
   "codemirror_mode": {
    "name": "ipython",
    "version": 3
   },
   "file_extension": ".py",
   "mimetype": "text/x-python",
   "name": "python",
   "nbconvert_exporter": "python",
   "pygments_lexer": "ipython3",
   "version": "3.6.3"
  }
 },
 "nbformat": 4,
 "nbformat_minor": 2
}
