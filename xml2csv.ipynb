{
 "cells": [
  {
   "cell_type": "code",
   "execution_count": 1,
   "metadata": {},
   "outputs": [],
   "source": [
    "import os\n",
    "import glob\n",
    "import pandas as pd\n",
    "import xml.etree.ElementTree as ET\n",
    "import shutil\n",
    "\n",
    "def xml_to_csv(path):\n",
    "    xml_list = []\n",
    "    for xml_file in glob.glob(path + '/*.xml'):\n",
    "        tree = ET.parse(xml_file)\n",
    "        root = tree.getroot()\n",
    "        for member in root.findall('object'):\n",
    "            value = (root.find('filename').text,\n",
    "                     int(root.find('size')[0].text),\n",
    "                     int(root.find('size')[1].text),\n",
    "                     member[0].text,\n",
    "                     int(member[4][0].text),\n",
    "                     int(member[4][1].text),\n",
    "                     int(member[4][2].text),\n",
    "                     int(member[4][3].text)\n",
    "                     )\n",
    "            xml_list.append(value)\n",
    "    column_name = ['filename', 'width', 'height', 'class', 'xmin', 'ymin', 'xmax', 'ymax']\n",
    "    xml_df = pd.DataFrame(xml_list, columns=column_name)\n",
    "    return xml_df\n",
    "\n",
    "#sanitize labels\n",
    "#7-eleven -> 7_eleven\n",
    "#family mart -> family_mart\n",
    "replace_dict = {\"7-eleven\":\"7_eleven\",\n",
    "                \"family mart\":\"family_mart\"}"
   ]
  },
  {
   "cell_type": "markdown",
   "metadata": {},
   "source": [
    "Move old data and separate XMLs and PNGs into folders"
   ]
  },
  {
   "cell_type": "code",
   "execution_count": 2,
   "metadata": {},
   "outputs": [],
   "source": [
    "# path = \"data/7_eleven_old/\"\n",
    "# xml_save_path = \"data/xml_old/\"\n",
    "# png_save_path = \"data/img/\"\n",
    "\n",
    "# for f in os.listdir(path):\n",
    "#     if os.path.splitext(f)[1] == '.xml':\n",
    "#         count += 1\n",
    "#         xml_base_name = os.path.splitext(f)[0]+'.xml'\n",
    "#         png_base_name = os.path.splitext(f)[0]+'.png'\n",
    "#         xml_src_path = path+xml_base_name\n",
    "#         png_src_path = path+png_base_name\n",
    "#         shutil.copy2(xml_src_path, xml_save_path)\n",
    "#         shutil.copy2(png_src_path, png_save_path)\n",
    "        "
   ]
  },
  {
   "cell_type": "code",
   "execution_count": 3,
   "metadata": {},
   "outputs": [],
   "source": [
    "def sanitize_label(df, replace_dict):\n",
    "    \"\"\"\n",
    "    sanitize labels from dataframe\n",
    "    Args:\n",
    "        df: pandas dataframe\n",
    "        replace_dict (str): dictionary containing sanitizing mapping\n",
    "    \"\"\"\n",
    "    return df.replace(replace_dict)"
   ]
  },
  {
   "cell_type": "markdown",
   "metadata": {},
   "source": [
    "This is an old data which might have overlapping filenames and only contain 1 class: `7-eleven`"
   ]
  },
  {
   "cell_type": "code",
   "execution_count": 4,
   "metadata": {},
   "outputs": [
    {
     "name": "stdout",
     "output_type": "stream",
     "text": [
      "['7_eleven'] 1\n",
      "                                            filename  width  height     class  \\\n",
      "0   v01_7eleven_35422222600000005_1396649526_120.png    640     640  7_eleven   \n",
      "1   v01_7eleven_35422222600000005_1396649526_120.png    640     640  7_eleven   \n",
      "2  v01_7eleven_3543121970000001_13965794530000002...    640     640  7_eleven   \n",
      "3             v01_7eleven_354588697_1396072656_0.png    640     640  7_eleven   \n",
      "4    v01_7eleven_355101339_14010322340000002_120.png    640     640  7_eleven   \n",
      "\n",
      "   xmin  ymin  xmax  ymax  \n",
      "0   217   294   348   333  \n",
      "1   315   188   335   218  \n",
      "2   571   271   638   311  \n",
      "3     1   258    85   303  \n",
      "4   498   288   607   312  \n",
      "331\n"
     ]
    }
   ],
   "source": [
    "old_data_path = \"data/xml_old\"\n",
    "old_df = xml_to_csv(old_data_path)\n",
    "old_df = sanitize_label(old_df, replace_dict)\n",
    "old_df.filename = old_df.filename.apply(lambda x:\"v01_\"+x)\n",
    "old_df.width = 640\n",
    "old_df.height = 640\n",
    "print(old_df['class'].unique(), old_df['class'].nunique())\n",
    "print(old_df.head())\n",
    "print(old_df.filename.nunique())"
   ]
  },
  {
   "cell_type": "markdown",
   "metadata": {},
   "source": [
    "This is new data"
   ]
  },
  {
   "cell_type": "code",
   "execution_count": 5,
   "metadata": {},
   "outputs": [
    {
     "name": "stdout",
     "output_type": "stream",
     "text": [
      "['lawson' '7_eleven' 'family_mart'] 3\n",
      "1346\n",
      "                                 filename  width  height     class  xmin  \\\n",
      "0     lawson_35.744331_139.925114_120.png    640     640    lawson   383   \n",
      "1  7-eleven_35.7040431_139.6634282_60.png    640     640  7_eleven     1   \n",
      "2  7-eleven_35.7040431_139.6634282_60.png    640     640  7_eleven    96   \n",
      "3  7-eleven_35.7040431_139.6634282_60.png    640     640  7_eleven   556   \n",
      "4   lawson_35.7040348_139.6135523_300.png    640     640    lawson     1   \n",
      "\n",
      "   ymin  xmax  ymax  \n",
      "0   272   640   328  \n",
      "1   162   277   298  \n",
      "2   329   128   365  \n",
      "3   110   616   176  \n",
      "4   255   123   313  \n"
     ]
    }
   ],
   "source": [
    "data_path = \"data/xml\"\n",
    "df = xml_to_csv(data_path)\n",
    "df = sanitize_label(df, replace_dict)\n",
    "df.width = 640\n",
    "df.height = 640\n",
    "print(df['class'].unique(), df['class'].nunique())\n",
    "print(df.filename.nunique())\n",
    "print(df.head())"
   ]
  },
  {
   "cell_type": "code",
   "execution_count": 6,
   "metadata": {},
   "outputs": [
    {
     "name": "stdout",
     "output_type": "stream",
     "text": [
      "['lawson' '7_eleven' 'family_mart'] 3\n",
      "1677\n",
      "                                 filename  width  height     class  xmin  \\\n",
      "0     lawson_35.744331_139.925114_120.png    640     640    lawson   383   \n",
      "1  7-eleven_35.7040431_139.6634282_60.png    640     640  7_eleven     1   \n",
      "2  7-eleven_35.7040431_139.6634282_60.png    640     640  7_eleven    96   \n",
      "3  7-eleven_35.7040431_139.6634282_60.png    640     640  7_eleven   556   \n",
      "4   lawson_35.7040348_139.6135523_300.png    640     640    lawson     1   \n",
      "\n",
      "   ymin  xmax  ymax  \n",
      "0   272   640   328  \n",
      "1   162   277   298  \n",
      "2   329   128   365  \n",
      "3   110   616   176  \n",
      "4   255   123   313  \n"
     ]
    }
   ],
   "source": [
    "df = df.append(old_df, ignore_index=True)\n",
    "print(df['class'].unique(), df['class'].nunique())\n",
    "print(df.filename.nunique())\n",
    "print(df.head())"
   ]
  },
  {
   "cell_type": "code",
   "execution_count": 7,
   "metadata": {},
   "outputs": [
    {
     "data": {
      "text/html": [
       "<div>\n",
       "<style scoped>\n",
       "    .dataframe tbody tr th:only-of-type {\n",
       "        vertical-align: middle;\n",
       "    }\n",
       "\n",
       "    .dataframe tbody tr th {\n",
       "        vertical-align: top;\n",
       "    }\n",
       "\n",
       "    .dataframe thead th {\n",
       "        text-align: right;\n",
       "    }\n",
       "</style>\n",
       "<table border=\"1\" class=\"dataframe\">\n",
       "  <thead>\n",
       "    <tr style=\"text-align: right;\">\n",
       "      <th>class</th>\n",
       "      <th>7_eleven</th>\n",
       "      <th>family_mart</th>\n",
       "      <th>lawson</th>\n",
       "    </tr>\n",
       "    <tr>\n",
       "      <th>class</th>\n",
       "      <th></th>\n",
       "      <th></th>\n",
       "      <th></th>\n",
       "    </tr>\n",
       "  </thead>\n",
       "  <tbody>\n",
       "    <tr>\n",
       "      <th>7_eleven</th>\n",
       "      <td>779</td>\n",
       "      <td>0</td>\n",
       "      <td>0</td>\n",
       "    </tr>\n",
       "    <tr>\n",
       "      <th>family_mart</th>\n",
       "      <td>0</td>\n",
       "      <td>918</td>\n",
       "      <td>0</td>\n",
       "    </tr>\n",
       "    <tr>\n",
       "      <th>lawson</th>\n",
       "      <td>0</td>\n",
       "      <td>0</td>\n",
       "      <td>969</td>\n",
       "    </tr>\n",
       "  </tbody>\n",
       "</table>\n",
       "</div>"
      ],
      "text/plain": [
       "class        7_eleven  family_mart  lawson\n",
       "class                                     \n",
       "7_eleven          779            0       0\n",
       "family_mart         0          918       0\n",
       "lawson              0            0     969"
      ]
     },
     "execution_count": 7,
     "metadata": {},
     "output_type": "execute_result"
    }
   ],
   "source": [
    "pd.crosstab(df['class'], df['class'])"
   ]
  },
  {
   "cell_type": "code",
   "execution_count": 8,
   "metadata": {},
   "outputs": [],
   "source": [
    "df.to_csv(\"data/csv/all_labels.csv\")"
   ]
  },
  {
   "cell_type": "code",
   "execution_count": null,
   "metadata": {},
   "outputs": [],
   "source": []
  }
 ],
 "metadata": {
  "kernelspec": {
   "display_name": "Python 3",
   "language": "python",
   "name": "python3"
  },
  "language_info": {
   "codemirror_mode": {
    "name": "ipython",
    "version": 3
   },
   "file_extension": ".py",
   "mimetype": "text/x-python",
   "name": "python",
   "nbconvert_exporter": "python",
   "pygments_lexer": "ipython3",
   "version": "3.6.3"
  }
 },
 "nbformat": 4,
 "nbformat_minor": 2
}
