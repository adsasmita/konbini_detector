{
 "cells": [
  {
   "cell_type": "code",
   "execution_count": 1,
   "metadata": {},
   "outputs": [],
   "source": [
    "import os\n",
    "import glob\n",
    "import pandas as pd\n",
    "import xml.etree.ElementTree as ET\n",
    "import shutil\n",
    "\n",
    "def xml_to_csv(path):\n",
    "    xml_list = []\n",
    "    for xml_file in glob.glob(path + '/*.xml'):\n",
    "        tree = ET.parse(xml_file)\n",
    "        root = tree.getroot()\n",
    "        for member in root.findall('object'):\n",
    "            value = (root.find('filename').text,\n",
    "                     int(root.find('size')[0].text),\n",
    "                     int(root.find('size')[1].text),\n",
    "                     member[0].text,\n",
    "                     int(member[4][0].text),\n",
    "                     int(member[4][1].text),\n",
    "                     int(member[4][2].text),\n",
    "                     int(member[4][3].text)\n",
    "                     )\n",
    "            xml_list.append(value)\n",
    "    column_name = ['filename', 'width', 'height', 'class', 'xmin', 'ymin', 'xmax', 'ymax']\n",
    "    xml_df = pd.DataFrame(xml_list, columns=column_name)\n",
    "    return xml_df"
   ]
  },
  {
   "cell_type": "code",
   "execution_count": 34,
   "metadata": {},
   "outputs": [],
   "source": [
    "def sanitize_label(df, replace_dict):\n",
    "    \"\"\"\n",
    "    sanitize labels from dataframe\n",
    "    Args:\n",
    "        df: pandas dataframe\n",
    "        replace_dict (str): dictionary containing sanitizing mapping\n",
    "    \"\"\"\n",
    "    return df.replace(replace_dict)"
   ]
  },
  {
   "cell_type": "code",
   "execution_count": 51,
   "metadata": {},
   "outputs": [
    {
     "data": {
      "text/plain": [
       "(array(['family_mart', 'lawson', '7_eleven'], dtype=object), 3)"
      ]
     },
     "execution_count": 51,
     "metadata": {},
     "output_type": "execute_result"
    },
    {
     "data": {
      "text/plain": [
       "1346"
      ]
     },
     "execution_count": 51,
     "metadata": {},
     "output_type": "execute_result"
    },
    {
     "data": {
      "text/html": [
       "<div>\n",
       "<style scoped>\n",
       "    .dataframe tbody tr th:only-of-type {\n",
       "        vertical-align: middle;\n",
       "    }\n",
       "\n",
       "    .dataframe tbody tr th {\n",
       "        vertical-align: top;\n",
       "    }\n",
       "\n",
       "    .dataframe thead th {\n",
       "        text-align: right;\n",
       "    }\n",
       "</style>\n",
       "<table border=\"1\" class=\"dataframe\">\n",
       "  <thead>\n",
       "    <tr style=\"text-align: right;\">\n",
       "      <th></th>\n",
       "      <th>filename</th>\n",
       "      <th>width</th>\n",
       "      <th>height</th>\n",
       "      <th>class</th>\n",
       "      <th>xmin</th>\n",
       "      <th>ymin</th>\n",
       "      <th>xmax</th>\n",
       "      <th>ymax</th>\n",
       "    </tr>\n",
       "  </thead>\n",
       "  <tbody>\n",
       "    <tr>\n",
       "      <th>0</th>\n",
       "      <td>family mart_35.606919_139.6680649_240.png</td>\n",
       "      <td>640</td>\n",
       "      <td>640</td>\n",
       "      <td>family_mart</td>\n",
       "      <td>284</td>\n",
       "      <td>245</td>\n",
       "      <td>505</td>\n",
       "      <td>311</td>\n",
       "    </tr>\n",
       "    <tr>\n",
       "      <th>1</th>\n",
       "      <td>family mart_35.606919_139.6680649_240.png</td>\n",
       "      <td>640</td>\n",
       "      <td>640</td>\n",
       "      <td>family_mart</td>\n",
       "      <td>323</td>\n",
       "      <td>274</td>\n",
       "      <td>399</td>\n",
       "      <td>302</td>\n",
       "    </tr>\n",
       "    <tr>\n",
       "      <th>2</th>\n",
       "      <td>lawson_35.5347905_139.6346221_240.png</td>\n",
       "      <td>640</td>\n",
       "      <td>640</td>\n",
       "      <td>lawson</td>\n",
       "      <td>318</td>\n",
       "      <td>298</td>\n",
       "      <td>554</td>\n",
       "      <td>330</td>\n",
       "    </tr>\n",
       "    <tr>\n",
       "      <th>3</th>\n",
       "      <td>lawson_35.60585_139.618764_240.png</td>\n",
       "      <td>640</td>\n",
       "      <td>640</td>\n",
       "      <td>lawson</td>\n",
       "      <td>1</td>\n",
       "      <td>215</td>\n",
       "      <td>159</td>\n",
       "      <td>302</td>\n",
       "    </tr>\n",
       "    <tr>\n",
       "      <th>4</th>\n",
       "      <td>lawson_35.60585_139.618764_240.png</td>\n",
       "      <td>640</td>\n",
       "      <td>640</td>\n",
       "      <td>lawson</td>\n",
       "      <td>163</td>\n",
       "      <td>262</td>\n",
       "      <td>186</td>\n",
       "      <td>300</td>\n",
       "    </tr>\n",
       "  </tbody>\n",
       "</table>\n",
       "</div>"
      ],
      "text/plain": [
       "                                    filename  width  height        class  \\\n",
       "0  family mart_35.606919_139.6680649_240.png    640     640  family_mart   \n",
       "1  family mart_35.606919_139.6680649_240.png    640     640  family_mart   \n",
       "2      lawson_35.5347905_139.6346221_240.png    640     640       lawson   \n",
       "3         lawson_35.60585_139.618764_240.png    640     640       lawson   \n",
       "4         lawson_35.60585_139.618764_240.png    640     640       lawson   \n",
       "\n",
       "   xmin  ymin  xmax  ymax  \n",
       "0   284   245   505   311  \n",
       "1   323   274   399   302  \n",
       "2   318   298   554   330  \n",
       "3     1   215   159   302  \n",
       "4   163   262   186   300  "
      ]
     },
     "execution_count": 51,
     "metadata": {},
     "output_type": "execute_result"
    }
   ],
   "source": [
    "data_path = \"png_f\"\n",
    "df = xml_to_csv(data_path)\n",
    "#sanitize labels\n",
    "#7-eleven -> 7_eleven\n",
    "#family mart -> family_mart\n",
    "replace_dict = {\"7-eleven\":\"7_eleven\",\n",
    "                \"family mart\":\"family_mart\"}\n",
    "\n",
    "df = sanitize_label(df, replace_dict)\n",
    "df.width = 640\n",
    "df.height = 640\n",
    "df['class'].unique(), df['class'].nunique()\n",
    "df.filename.nunique()\n",
    "df.head()\n",
    "df.to_csv(\"data/csv/all_labels.csv\")"
   ]
  }
 ],
 "metadata": {
  "kernelspec": {
   "display_name": "Python 3",
   "language": "python",
   "name": "python3"
  },
  "language_info": {
   "codemirror_mode": {
    "name": "ipython",
    "version": 3
   },
   "file_extension": ".py",
   "mimetype": "text/x-python",
   "name": "python",
   "nbconvert_exporter": "python",
   "pygments_lexer": "ipython3",
   "version": "3.6.3"
  }
 },
 "nbformat": 4,
 "nbformat_minor": 2
}
